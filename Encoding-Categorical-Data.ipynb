{
 "cells": [
  {
   "cell_type": "code",
   "execution_count": null,
   "id": "31957bf1",
   "metadata": {},
   "outputs": [],
   "source": [
    "##Numerical / categorical - Ordinal (Low,Mediem ,High- Distinction,FIrst class) and Nominal (W.B.Goa)\n",
    "##Nominal encoding - One Hot Encoding\n",
    "##Ordinal ENcosding - Label Encoding\n",
    "##https://www.delftstack.com/howto/python-pandas/pandas-replace-values-in-column/"
   ]
  }
 ],
 "metadata": {
  "kernelspec": {
   "display_name": "Python 3",
   "language": "python",
   "name": "python3"
  },
  "language_info": {
   "codemirror_mode": {
    "name": "ipython",
    "version": 3
   },
   "file_extension": ".py",
   "mimetype": "text/x-python",
   "name": "python",
   "nbconvert_exporter": "python",
   "pygments_lexer": "ipython3",
   "version": "3.8.8"
  }
 },
 "nbformat": 4,
 "nbformat_minor": 5
}
